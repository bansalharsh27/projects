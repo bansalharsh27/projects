{
  "nbformat": 4,
  "nbformat_minor": 0,
  "metadata": {
    "colab": {
      "name": "Sporty Guru_Assignemnt.ipynb",
      "provenance": [],
      "collapsed_sections": []
    },
    "kernelspec": {
      "name": "python3",
      "display_name": "Python 3"
    },
    "language_info": {
      "name": "python"
    }
  },
  "cells": [
    {
      "cell_type": "markdown",
      "metadata": {
        "id": "5VzVLgaTNFGe"
      },
      "source": [
        "### Importing Libraries"
      ]
    },
    {
      "cell_type": "code",
      "metadata": {
        "id": "zNoa8XXUe4do"
      },
      "source": [
        "import pandas as pd\n",
        "import numpy as np\n",
        "import keras \n",
        "from keras.datasets import cifar10\n",
        "import tensorflow as tf\n",
        "from keras.layers import Conv2D,Dense, MaxPool2D,Flatten\n",
        "from keras.optimizers import Adam\n",
        "from keras.models import Sequential\n",
        "from sklearn.preprocessing import OneHotEncoder\n",
        "import matplotlib.pyplot as plt"
      ],
      "execution_count": 36,
      "outputs": []
    },
    {
      "cell_type": "markdown",
      "metadata": {
        "id": "qG-5YpN0NM_z"
      },
      "source": [
        "### Loading Train and Test Data"
      ]
    },
    {
      "cell_type": "code",
      "metadata": {
        "id": "-nrGemVNyqTO"
      },
      "source": [
        "(x_train, y_train), (x_test, y_test) = cifar10.load_data()\n"
      ],
      "execution_count": 37,
      "outputs": []
    },
    {
      "cell_type": "markdown",
      "metadata": {
        "id": "myqyyTVrNTDo"
      },
      "source": [
        "### Label Processing"
      ]
    },
    {
      "cell_type": "code",
      "metadata": {
        "id": "eKTOGDJaCF9A"
      },
      "source": [
        "one=OneHotEncoder(sparse=False)\n",
        "y_train=one.fit_transform(y_train)\n",
        "y_test=one.transform(y_test)\n"
      ],
      "execution_count": 38,
      "outputs": []
    },
    {
      "cell_type": "markdown",
      "metadata": {
        "id": "hUMwHzDjzaiz"
      },
      "source": [
        "#### Normalizing"
      ]
    },
    {
      "cell_type": "code",
      "metadata": {
        "id": "af60ga19zdv_"
      },
      "source": [
        "x_train=x_train/255\n",
        "x_test=x_test/255"
      ],
      "execution_count": 39,
      "outputs": []
    },
    {
      "cell_type": "markdown",
      "metadata": {
        "id": "Y0mNqLtM7gFN"
      },
      "source": [
        "####NetA"
      ]
    },
    {
      "cell_type": "code",
      "metadata": {
        "id": "AVM3wXrR7gan"
      },
      "source": [
        "NetA= Sequential(\n",
        "    [Flatten(input_shape=(32,32,3)),\n",
        "     Dense(10)])"
      ],
      "execution_count": 40,
      "outputs": []
    },
    {
      "cell_type": "code",
      "metadata": {
        "id": "YmLZ8BT47gfE"
      },
      "source": [
        "NetA.compile(loss='categorical_crossentropy', optimizer='adam',metrics=['acc'])"
      ],
      "execution_count": 41,
      "outputs": []
    },
    {
      "cell_type": "code",
      "metadata": {
        "colab": {
          "base_uri": "https://localhost:8080/"
        },
        "id": "426F5RO9B1z5",
        "outputId": "2fe74f0a-14f4-48b0-a530-1dd268dc9d88"
      },
      "source": [
        "result_A=NetA.fit(x_train,y_train,validation_data=(x_test, y_test),epochs=50)"
      ],
      "execution_count": 42,
      "outputs": [
        {
          "output_type": "stream",
          "text": [
            "Epoch 1/50\n",
            "1563/1563 [==============================] - 6s 3ms/step - loss: 11.0699 - acc: 0.1012 - val_loss: 11.2198 - val_acc: 0.1000\n",
            "Epoch 2/50\n",
            "1563/1563 [==============================] - 5s 3ms/step - loss: 11.1909 - acc: 0.0974 - val_loss: 11.2827 - val_acc: 0.0992\n",
            "Epoch 3/50\n",
            "1563/1563 [==============================] - 5s 3ms/step - loss: 11.2729 - acc: 0.0981 - val_loss: 11.2827 - val_acc: 0.0992\n",
            "Epoch 4/50\n",
            "1563/1563 [==============================] - 5s 3ms/step - loss: 11.3063 - acc: 0.0992 - val_loss: 11.2827 - val_acc: 0.0992\n",
            "Epoch 5/50\n",
            "1563/1563 [==============================] - 5s 3ms/step - loss: 11.2810 - acc: 0.0977 - val_loss: 11.2827 - val_acc: 0.0992\n",
            "Epoch 6/50\n",
            "1563/1563 [==============================] - 4s 3ms/step - loss: 11.2484 - acc: 0.0989 - val_loss: 11.2827 - val_acc: 0.0992\n",
            "Epoch 7/50\n",
            "1563/1563 [==============================] - 5s 3ms/step - loss: 11.2410 - acc: 0.0974 - val_loss: 11.2827 - val_acc: 0.0992\n",
            "Epoch 8/50\n",
            "1563/1563 [==============================] - 5s 3ms/step - loss: 11.2366 - acc: 0.0973 - val_loss: 11.2827 - val_acc: 0.0992\n",
            "Epoch 9/50\n",
            "1563/1563 [==============================] - 5s 3ms/step - loss: 11.2925 - acc: 0.1001 - val_loss: 11.2827 - val_acc: 0.0992\n",
            "Epoch 10/50\n",
            "1563/1563 [==============================] - 5s 3ms/step - loss: 11.3034 - acc: 0.0986 - val_loss: 11.2827 - val_acc: 0.0992\n",
            "Epoch 11/50\n",
            "1563/1563 [==============================] - 4s 3ms/step - loss: 11.3086 - acc: 0.0975 - val_loss: 11.2827 - val_acc: 0.0992\n",
            "Epoch 12/50\n",
            "1563/1563 [==============================] - 4s 3ms/step - loss: 11.2896 - acc: 0.0955 - val_loss: 11.2827 - val_acc: 0.0992\n",
            "Epoch 13/50\n",
            "1563/1563 [==============================] - 5s 3ms/step - loss: 11.2251 - acc: 0.1003 - val_loss: 11.2827 - val_acc: 0.0992\n",
            "Epoch 14/50\n",
            "1563/1563 [==============================] - 5s 3ms/step - loss: 11.3242 - acc: 0.0965 - val_loss: 11.2827 - val_acc: 0.0992\n",
            "Epoch 15/50\n",
            "1563/1563 [==============================] - 4s 3ms/step - loss: 11.2646 - acc: 0.0992 - val_loss: 11.2827 - val_acc: 0.0992\n",
            "Epoch 16/50\n",
            "1563/1563 [==============================] - 5s 3ms/step - loss: 11.2766 - acc: 0.0968 - val_loss: 11.2827 - val_acc: 0.0992\n",
            "Epoch 17/50\n",
            "1563/1563 [==============================] - 5s 3ms/step - loss: 11.3496 - acc: 0.1015 - val_loss: 11.2827 - val_acc: 0.0992\n",
            "Epoch 18/50\n",
            "1563/1563 [==============================] - 5s 3ms/step - loss: 11.2667 - acc: 0.0996 - val_loss: 11.2827 - val_acc: 0.0992\n",
            "Epoch 19/50\n",
            "1563/1563 [==============================] - 5s 3ms/step - loss: 11.2966 - acc: 0.0973 - val_loss: 11.2827 - val_acc: 0.0992\n",
            "Epoch 20/50\n",
            "1563/1563 [==============================] - 4s 3ms/step - loss: 11.3474 - acc: 0.0969 - val_loss: 11.2827 - val_acc: 0.0992\n",
            "Epoch 21/50\n",
            "1563/1563 [==============================] - 4s 3ms/step - loss: 11.2899 - acc: 0.0980 - val_loss: 11.2827 - val_acc: 0.0992\n",
            "Epoch 22/50\n",
            "1563/1563 [==============================] - 4s 3ms/step - loss: 11.2683 - acc: 0.0959 - val_loss: 11.2827 - val_acc: 0.0992\n",
            "Epoch 23/50\n",
            "1563/1563 [==============================] - 4s 3ms/step - loss: 11.2452 - acc: 0.0969 - val_loss: 11.2827 - val_acc: 0.0992\n",
            "Epoch 24/50\n",
            "1563/1563 [==============================] - 4s 3ms/step - loss: 11.2683 - acc: 0.0998 - val_loss: 11.2827 - val_acc: 0.0992\n",
            "Epoch 25/50\n",
            "1563/1563 [==============================] - 4s 3ms/step - loss: 11.2837 - acc: 0.0985 - val_loss: 11.2827 - val_acc: 0.0992\n",
            "Epoch 26/50\n",
            "1563/1563 [==============================] - 5s 3ms/step - loss: 11.2672 - acc: 0.0993 - val_loss: 11.2827 - val_acc: 0.0992\n",
            "Epoch 27/50\n",
            "1563/1563 [==============================] - 4s 3ms/step - loss: 11.2954 - acc: 0.0992 - val_loss: 11.2827 - val_acc: 0.0992\n",
            "Epoch 28/50\n",
            "1563/1563 [==============================] - 5s 3ms/step - loss: 11.2529 - acc: 0.0972 - val_loss: 11.2827 - val_acc: 0.0992\n",
            "Epoch 29/50\n",
            "1563/1563 [==============================] - 4s 3ms/step - loss: 11.2612 - acc: 0.0977 - val_loss: 11.2827 - val_acc: 0.0992\n",
            "Epoch 30/50\n",
            "1563/1563 [==============================] - 4s 3ms/step - loss: 11.2156 - acc: 0.0962 - val_loss: 11.2827 - val_acc: 0.0992\n",
            "Epoch 31/50\n",
            "1563/1563 [==============================] - 4s 3ms/step - loss: 11.2736 - acc: 0.0989 - val_loss: 11.2827 - val_acc: 0.0992\n",
            "Epoch 32/50\n",
            "1563/1563 [==============================] - 4s 3ms/step - loss: 11.2670 - acc: 0.0976 - val_loss: 11.2827 - val_acc: 0.0992\n",
            "Epoch 33/50\n",
            "1563/1563 [==============================] - 4s 3ms/step - loss: 11.3042 - acc: 0.0999 - val_loss: 11.2827 - val_acc: 0.0992\n",
            "Epoch 34/50\n",
            "1563/1563 [==============================] - 5s 3ms/step - loss: 11.2587 - acc: 0.0986 - val_loss: 11.2827 - val_acc: 0.0992\n",
            "Epoch 35/50\n",
            "1563/1563 [==============================] - 4s 3ms/step - loss: 11.2313 - acc: 0.0984 - val_loss: 11.2827 - val_acc: 0.0992\n",
            "Epoch 36/50\n",
            "1563/1563 [==============================] - 4s 3ms/step - loss: 11.3041 - acc: 0.0994 - val_loss: 11.2827 - val_acc: 0.0992\n",
            "Epoch 37/50\n",
            "1563/1563 [==============================] - 4s 3ms/step - loss: 11.3040 - acc: 0.0965 - val_loss: 11.2827 - val_acc: 0.0992\n",
            "Epoch 38/50\n",
            "1563/1563 [==============================] - 5s 3ms/step - loss: 11.2730 - acc: 0.0996 - val_loss: 11.2827 - val_acc: 0.0992\n",
            "Epoch 39/50\n",
            "1563/1563 [==============================] - 5s 3ms/step - loss: 11.3301 - acc: 0.0978 - val_loss: 11.2827 - val_acc: 0.0992\n",
            "Epoch 40/50\n",
            "1563/1563 [==============================] - 5s 3ms/step - loss: 11.3461 - acc: 0.0982 - val_loss: 11.2827 - val_acc: 0.0992\n",
            "Epoch 41/50\n",
            "1563/1563 [==============================] - 5s 3ms/step - loss: 11.3050 - acc: 0.0994 - val_loss: 11.2827 - val_acc: 0.0992\n",
            "Epoch 42/50\n",
            "1563/1563 [==============================] - 5s 3ms/step - loss: 11.2975 - acc: 0.0982 - val_loss: 11.2827 - val_acc: 0.0992\n",
            "Epoch 43/50\n",
            "1563/1563 [==============================] - 5s 3ms/step - loss: 11.2288 - acc: 0.0971 - val_loss: 11.2827 - val_acc: 0.0992\n",
            "Epoch 44/50\n",
            "1563/1563 [==============================] - 5s 3ms/step - loss: 11.2972 - acc: 0.0967 - val_loss: 11.2827 - val_acc: 0.0992\n",
            "Epoch 45/50\n",
            "1563/1563 [==============================] - 4s 3ms/step - loss: 11.3250 - acc: 0.0987 - val_loss: 11.2827 - val_acc: 0.0992\n",
            "Epoch 46/50\n",
            "1563/1563 [==============================] - 4s 3ms/step - loss: 11.2904 - acc: 0.0970 - val_loss: 11.2827 - val_acc: 0.0992\n",
            "Epoch 47/50\n",
            "1563/1563 [==============================] - 5s 3ms/step - loss: 11.2653 - acc: 0.0986 - val_loss: 11.2827 - val_acc: 0.0992\n",
            "Epoch 48/50\n",
            "1563/1563 [==============================] - 4s 3ms/step - loss: 11.3555 - acc: 0.0978 - val_loss: 11.2827 - val_acc: 0.0992\n",
            "Epoch 49/50\n",
            "1563/1563 [==============================] - 5s 3ms/step - loss: 11.3002 - acc: 0.0989 - val_loss: 11.2827 - val_acc: 0.0992\n",
            "Epoch 50/50\n",
            "1563/1563 [==============================] - 4s 3ms/step - loss: 11.2438 - acc: 0.0996 - val_loss: 11.2827 - val_acc: 0.0992\n"
          ],
          "name": "stdout"
        }
      ]
    },
    {
      "cell_type": "code",
      "metadata": {
        "colab": {
          "base_uri": "https://localhost:8080/",
          "height": 281
        },
        "id": "EgBD1nGtCTtn",
        "outputId": "b9603472-8bee-42ae-886d-23ba5be23ea8"
      },
      "source": [
        "plt.plot(result_A.history[\"acc\"],label=\"Train Accuracy\")\n",
        "plt.plot(result_A.history[\"val_acc\"],label=\"Test Accuracy\")\n",
        "plt.legend()\n",
        "plt.title(\"Accuracy Plot for NetA\")\n",
        "plt.show()"
      ],
      "execution_count": 43,
      "outputs": [
        {
          "output_type": "display_data",
          "data": {
            "image/png": "[encoded data removed]",
            "text/plain": [
              "<Figure size 432x288 with 1 Axes>"
            ]
          },
          "metadata": {
            "tags": [],
            "needs_background": "light"
          }
        }
      ]
    },
    {
      "cell_type": "markdown",
      "metadata": {
        "id": "J3jiwAMYK2qp"
      },
      "source": [
        "#### NetB"
      ]
    },
    {
      "cell_type": "code",
      "metadata": {
        "id": "Af9BkKJ9K14o"
      },
      "source": [
        "NetB=Sequential(\n",
        "    [Flatten(input_shape=(32,32,3)),\n",
        "     Dense(300,activation=\"relu\"),\n",
        "     Dense(10)]\n",
        ")"
      ],
      "execution_count": 44,
      "outputs": []
    },
    {
      "cell_type": "code",
      "metadata": {
        "id": "YLmON-McLv7x"
      },
      "source": [
        "NetB.compile(loss='categorical_crossentropy', optimizer='adam',metrics=['acc'])"
      ],
      "execution_count": 45,
      "outputs": []
    },
    {
      "cell_type": "code",
      "metadata": {
        "colab": {
          "base_uri": "https://localhost:8080/"
        },
        "id": "NqTPtrKfLylF",
        "outputId": "a28c1732-4f58-4baa-afef-2eb257eed0f7"
      },
      "source": [
        "result_B=NetB.fit(x_train,y_train,validation_data=(x_test, y_test),epochs=50)"
      ],
      "execution_count": 46,
      "outputs": [
        {
          "output_type": "stream",
          "text": [
            "Epoch 1/50\n",
            "1563/1563 [==============================] - 16s 10ms/step - loss: 5.4663 - acc: 0.1061 - val_loss: 4.8354 - val_acc: 0.1091\n",
            "Epoch 2/50\n",
            "1563/1563 [==============================] - 16s 10ms/step - loss: 4.8381 - acc: 0.1084 - val_loss: 4.8354 - val_acc: 0.1091\n",
            "Epoch 3/50\n",
            "1563/1563 [==============================] - 16s 10ms/step - loss: 4.8088 - acc: 0.1069 - val_loss: 4.8354 - val_acc: 0.1091\n",
            "Epoch 4/50\n",
            "1563/1563 [==============================] - 15s 10ms/step - loss: 4.8334 - acc: 0.1070 - val_loss: 4.8354 - val_acc: 0.1091\n",
            "Epoch 5/50\n",
            "1563/1563 [==============================] - 15s 10ms/step - loss: 4.8596 - acc: 0.1079 - val_loss: 4.8354 - val_acc: 0.1091\n",
            "Epoch 6/50\n",
            "1563/1563 [==============================] - 16s 10ms/step - loss: 4.8135 - acc: 0.1096 - val_loss: 4.8354 - val_acc: 0.1091\n",
            "Epoch 7/50\n",
            "1563/1563 [==============================] - 15s 10ms/step - loss: 4.8931 - acc: 0.1086 - val_loss: 4.8354 - val_acc: 0.1091\n",
            "Epoch 8/50\n",
            "1563/1563 [==============================] - 15s 10ms/step - loss: 4.8532 - acc: 0.1090 - val_loss: 4.8354 - val_acc: 0.1091\n",
            "Epoch 9/50\n",
            "1563/1563 [==============================] - 15s 10ms/step - loss: 4.7950 - acc: 0.1091 - val_loss: 4.8354 - val_acc: 0.1091\n",
            "Epoch 10/50\n",
            "1563/1563 [==============================] - 15s 10ms/step - loss: 4.8681 - acc: 0.1085 - val_loss: 4.8354 - val_acc: 0.1091\n",
            "Epoch 11/50\n",
            "1563/1563 [==============================] - 15s 10ms/step - loss: 4.8446 - acc: 0.1077 - val_loss: 4.8354 - val_acc: 0.1091\n",
            "Epoch 12/50\n",
            "1563/1563 [==============================] - 15s 10ms/step - loss: 4.8649 - acc: 0.1111 - val_loss: 4.8354 - val_acc: 0.1091\n",
            "Epoch 13/50\n",
            "1563/1563 [==============================] - 15s 9ms/step - loss: 4.8682 - acc: 0.1098 - val_loss: 4.8354 - val_acc: 0.1091\n",
            "Epoch 14/50\n",
            "1563/1563 [==============================] - 15s 10ms/step - loss: 4.7818 - acc: 0.1092 - val_loss: 4.8354 - val_acc: 0.1091\n",
            "Epoch 15/50\n",
            "1563/1563 [==============================] - 15s 9ms/step - loss: 4.8512 - acc: 0.1092 - val_loss: 4.8354 - val_acc: 0.1091\n",
            "Epoch 16/50\n",
            "1563/1563 [==============================] - 15s 10ms/step - loss: 4.8645 - acc: 0.1087 - val_loss: 4.8354 - val_acc: 0.1091\n",
            "Epoch 17/50\n",
            "1563/1563 [==============================] - 15s 10ms/step - loss: 4.8282 - acc: 0.1102 - val_loss: 4.8354 - val_acc: 0.1091\n",
            "Epoch 18/50\n",
            "1563/1563 [==============================] - 15s 10ms/step - loss: 4.8592 - acc: 0.1076 - val_loss: 4.8354 - val_acc: 0.1091\n",
            "Epoch 19/50\n",
            "1563/1563 [==============================] - 15s 9ms/step - loss: 4.8689 - acc: 0.1080 - val_loss: 4.8354 - val_acc: 0.1091\n",
            "Epoch 20/50\n",
            "1563/1563 [==============================] - 15s 10ms/step - loss: 4.8225 - acc: 0.1103 - val_loss: 4.8354 - val_acc: 0.1091\n",
            "Epoch 21/50\n",
            "1563/1563 [==============================] - 15s 9ms/step - loss: 4.8652 - acc: 0.1101 - val_loss: 4.8354 - val_acc: 0.1091\n",
            "Epoch 22/50\n",
            "1563/1563 [==============================] - 15s 10ms/step - loss: 4.7856 - acc: 0.1065 - val_loss: 4.8354 - val_acc: 0.1091\n",
            "Epoch 23/50\n",
            "1563/1563 [==============================] - 16s 10ms/step - loss: 4.8198 - acc: 0.1094 - val_loss: 4.8354 - val_acc: 0.1091\n",
            "Epoch 24/50\n",
            "1563/1563 [==============================] - 17s 11ms/step - loss: 4.8140 - acc: 0.1083 - val_loss: 4.8354 - val_acc: 0.1091\n",
            "Epoch 25/50\n",
            "1563/1563 [==============================] - 15s 10ms/step - loss: 4.8433 - acc: 0.1091 - val_loss: 4.8354 - val_acc: 0.1091\n",
            "Epoch 26/50\n",
            "1563/1563 [==============================] - 15s 9ms/step - loss: 4.8419 - acc: 0.1079 - val_loss: 4.8354 - val_acc: 0.1091\n",
            "Epoch 27/50\n",
            "1563/1563 [==============================] - 15s 10ms/step - loss: 4.8693 - acc: 0.1089 - val_loss: 4.8354 - val_acc: 0.1091\n",
            "Epoch 28/50\n",
            "1563/1563 [==============================] - 16s 10ms/step - loss: 4.8252 - acc: 0.1105 - val_loss: 4.8354 - val_acc: 0.1091\n",
            "Epoch 29/50\n",
            "1563/1563 [==============================] - 17s 11ms/step - loss: 4.8413 - acc: 0.1097 - val_loss: 4.8354 - val_acc: 0.1091\n",
            "Epoch 30/50\n",
            "1563/1563 [==============================] - 15s 10ms/step - loss: 4.8578 - acc: 0.1070 - val_loss: 4.8354 - val_acc: 0.1091\n",
            "Epoch 31/50\n",
            "1563/1563 [==============================] - 15s 10ms/step - loss: 4.8796 - acc: 0.1114 - val_loss: 4.8354 - val_acc: 0.1091\n",
            "Epoch 32/50\n",
            "1563/1563 [==============================] - 15s 10ms/step - loss: 4.8275 - acc: 0.1084 - val_loss: 4.8354 - val_acc: 0.1091\n",
            "Epoch 33/50\n",
            "1563/1563 [==============================] - 15s 10ms/step - loss: 4.7991 - acc: 0.1088 - val_loss: 4.8354 - val_acc: 0.1091\n",
            "Epoch 34/50\n",
            "1563/1563 [==============================] - 15s 10ms/step - loss: 4.8381 - acc: 0.1111 - val_loss: 4.8354 - val_acc: 0.1091\n",
            "Epoch 35/50\n",
            "1563/1563 [==============================] - 16s 10ms/step - loss: 4.8270 - acc: 0.1068 - val_loss: 4.8354 - val_acc: 0.1091\n",
            "Epoch 36/50\n",
            "1563/1563 [==============================] - 15s 10ms/step - loss: 4.8927 - acc: 0.1090 - val_loss: 4.8354 - val_acc: 0.1091\n",
            "Epoch 37/50\n",
            "1563/1563 [==============================] - 15s 10ms/step - loss: 4.8193 - acc: 0.1083 - val_loss: 4.8354 - val_acc: 0.1091\n",
            "Epoch 38/50\n",
            "1563/1563 [==============================] - 15s 10ms/step - loss: 4.8266 - acc: 0.1114 - val_loss: 4.8354 - val_acc: 0.1091\n",
            "Epoch 39/50\n",
            "1563/1563 [==============================] - 15s 9ms/step - loss: 4.9071 - acc: 0.1083 - val_loss: 4.8354 - val_acc: 0.1091\n",
            "Epoch 40/50\n",
            "1563/1563 [==============================] - 15s 10ms/step - loss: 4.8300 - acc: 0.1082 - val_loss: 4.8354 - val_acc: 0.1091\n",
            "Epoch 41/50\n",
            "1563/1563 [==============================] - 15s 10ms/step - loss: 4.8140 - acc: 0.1084 - val_loss: 4.8354 - val_acc: 0.1091\n",
            "Epoch 42/50\n",
            "1563/1563 [==============================] - 15s 10ms/step - loss: 4.8350 - acc: 0.1076 - val_loss: 4.8354 - val_acc: 0.1091\n",
            "Epoch 43/50\n",
            "1563/1563 [==============================] - 15s 10ms/step - loss: 4.8572 - acc: 0.1094 - val_loss: 4.8354 - val_acc: 0.1091\n",
            "Epoch 44/50\n",
            "1563/1563 [==============================] - 15s 10ms/step - loss: 4.8144 - acc: 0.1098 - val_loss: 4.8354 - val_acc: 0.1091\n",
            "Epoch 45/50\n",
            "1563/1563 [==============================] - 16s 10ms/step - loss: 4.8305 - acc: 0.1076 - val_loss: 4.8354 - val_acc: 0.1091\n",
            "Epoch 46/50\n",
            "1563/1563 [==============================] - 15s 10ms/step - loss: 4.8724 - acc: 0.1079 - val_loss: 4.8354 - val_acc: 0.1091\n",
            "Epoch 47/50\n",
            "1563/1563 [==============================] - 15s 10ms/step - loss: 4.8845 - acc: 0.1072 - val_loss: 4.8354 - val_acc: 0.1091\n",
            "Epoch 48/50\n",
            "1563/1563 [==============================] - 15s 10ms/step - loss: 4.8350 - acc: 0.1093 - val_loss: 4.8354 - val_acc: 0.1091\n",
            "Epoch 49/50\n",
            "1563/1563 [==============================] - 15s 10ms/step - loss: 4.8359 - acc: 0.1108 - val_loss: 4.8354 - val_acc: 0.1091\n",
            "Epoch 50/50\n",
            "1563/1563 [==============================] - 15s 10ms/step - loss: 4.8003 - acc: 0.1099 - val_loss: 4.8354 - val_acc: 0.1091\n"
          ],
          "name": "stdout"
        }
      ]
    },
    {
      "cell_type": "code",
      "metadata": {
        "colab": {
          "base_uri": "https://localhost:8080/",
          "height": 281
        },
        "id": "uYkLhWkFL4dr",
        "outputId": "3f434242-cdc1-4f07-d524-6862e98796bf"
      },
      "source": [
        "plt.plot(result_B.history[\"acc\"],label=\"Train Accuracy\")\n",
        "plt.plot(result_B.history[\"val_acc\"],label=\"Test Accuracy\")\n",
        "plt.legend()\n",
        "plt.title(\"Accuracy Plot for NetB\")\n",
        "plt.show()"
      ],
      "execution_count": 47,
      "outputs": [
        {
          "output_type": "display_data",
          "data": {
            "image/png": "[encoded data removed]",
            "text/plain": [
              "<Figure size 432x288 with 1 Axes>"
            ]
          },
          "metadata": {
            "tags": [],
            "needs_background": "light"
          }
        }
      ]
    },
    {
      "cell_type": "markdown",
      "metadata": {
        "id": "dtU1RgXQL-Yp"
      },
      "source": [
        "#### NetC"
      ]
    },
    {
      "cell_type": "code",
      "metadata": {
        "id": "etCIRIAnL_W8"
      },
      "source": [
        "NetC=Sequential(\n",
        "    [Conv2D(25,kernel_size=5,activation=\"relu\",input_shape=(32,32,3)),\n",
        "     MaxPool2D((2,2)),\n",
        "     Flatten(),\n",
        "     Dense(10)]\n",
        ")"
      ],
      "execution_count": 48,
      "outputs": []
    },
    {
      "cell_type": "code",
      "metadata": {
        "id": "TrNuT_XLMrIw"
      },
      "source": [
        "NetC.compile(loss='categorical_crossentropy', optimizer='adam',metrics=['acc'])"
      ],
      "execution_count": 49,
      "outputs": []
    },
    {
      "cell_type": "code",
      "metadata": {
        "colab": {
          "base_uri": "https://localhost:8080/"
        },
        "id": "SUsc6LsdMstQ",
        "outputId": "7767e2df-10d6-480a-e139-629c47a9ce95"
      },
      "source": [
        "result_C=NetC.fit(x_train,y_train,validation_data=(x_test, y_test),epochs=50)"
      ],
      "execution_count": 50,
      "outputs": [
        {
          "output_type": "stream",
          "text": [
            "Epoch 1/50\n",
            "1563/1563 [==============================] - 47s 29ms/step - loss: 9.4717 - acc: 0.1058 - val_loss: 8.8714 - val_acc: 0.1030\n",
            "Epoch 2/50\n",
            "1563/1563 [==============================] - 44s 28ms/step - loss: 8.7993 - acc: 0.1073 - val_loss: 8.8714 - val_acc: 0.1030\n",
            "Epoch 3/50\n",
            "1563/1563 [==============================] - 44s 28ms/step - loss: 8.7865 - acc: 0.1053 - val_loss: 8.8714 - val_acc: 0.1030\n",
            "Epoch 4/50\n",
            "1563/1563 [==============================] - 44s 28ms/step - loss: 8.8301 - acc: 0.1074 - val_loss: 8.8714 - val_acc: 0.1030\n",
            "Epoch 5/50\n",
            "1563/1563 [==============================] - 44s 28ms/step - loss: 8.8473 - acc: 0.1044 - val_loss: 8.8714 - val_acc: 0.1030\n",
            "Epoch 6/50\n",
            "1563/1563 [==============================] - 45s 29ms/step - loss: 8.8098 - acc: 0.1066 - val_loss: 8.8714 - val_acc: 0.1030\n",
            "Epoch 7/50\n",
            "1563/1563 [==============================] - 44s 28ms/step - loss: 8.8325 - acc: 0.1043 - val_loss: 8.8714 - val_acc: 0.1030\n",
            "Epoch 8/50\n",
            "1563/1563 [==============================] - 44s 28ms/step - loss: 8.7444 - acc: 0.1034 - val_loss: 8.8714 - val_acc: 0.1030\n",
            "Epoch 9/50\n",
            "1563/1563 [==============================] - 45s 29ms/step - loss: 8.8132 - acc: 0.1060 - val_loss: 8.8714 - val_acc: 0.1030\n",
            "Epoch 10/50\n",
            "1563/1563 [==============================] - 45s 29ms/step - loss: 8.8069 - acc: 0.1083 - val_loss: 8.8714 - val_acc: 0.1030\n",
            "Epoch 11/50\n",
            "1563/1563 [==============================] - 45s 29ms/step - loss: 8.7919 - acc: 0.1066 - val_loss: 8.8714 - val_acc: 0.1030\n",
            "Epoch 12/50\n",
            "1563/1563 [==============================] - 44s 28ms/step - loss: 8.8462 - acc: 0.1092 - val_loss: 8.8714 - val_acc: 0.1030\n",
            "Epoch 13/50\n",
            "1563/1563 [==============================] - 44s 28ms/step - loss: 8.8070 - acc: 0.1068 - val_loss: 8.8714 - val_acc: 0.1030\n",
            "Epoch 14/50\n",
            "1563/1563 [==============================] - 44s 28ms/step - loss: 8.7693 - acc: 0.1092 - val_loss: 8.8714 - val_acc: 0.1030\n",
            "Epoch 15/50\n",
            "1563/1563 [==============================] - 44s 28ms/step - loss: 8.7516 - acc: 0.1070 - val_loss: 8.8714 - val_acc: 0.1030\n",
            "Epoch 16/50\n",
            "1563/1563 [==============================] - 44s 28ms/step - loss: 8.7939 - acc: 0.1072 - val_loss: 8.8714 - val_acc: 0.1030\n",
            "Epoch 17/50\n",
            "1563/1563 [==============================] - 44s 28ms/step - loss: 8.8057 - acc: 0.1078 - val_loss: 8.8714 - val_acc: 0.1030\n",
            "Epoch 18/50\n",
            "1563/1563 [==============================] - 44s 28ms/step - loss: 8.8332 - acc: 0.1032 - val_loss: 8.8714 - val_acc: 0.1030\n",
            "Epoch 19/50\n",
            "1563/1563 [==============================] - 44s 28ms/step - loss: 8.7906 - acc: 0.1055 - val_loss: 8.8714 - val_acc: 0.1030\n",
            "Epoch 20/50\n",
            "1563/1563 [==============================] - 44s 28ms/step - loss: 8.7755 - acc: 0.1078 - val_loss: 8.8714 - val_acc: 0.1030\n",
            "Epoch 21/50\n",
            "1563/1563 [==============================] - 44s 28ms/step - loss: 8.8372 - acc: 0.1057 - val_loss: 8.8714 - val_acc: 0.1030\n",
            "Epoch 22/50\n",
            "1563/1563 [==============================] - 44s 28ms/step - loss: 8.7929 - acc: 0.1031 - val_loss: 8.8714 - val_acc: 0.1030\n",
            "Epoch 23/50\n",
            "1563/1563 [==============================] - 45s 29ms/step - loss: 8.8059 - acc: 0.1062 - val_loss: 8.8714 - val_acc: 0.1030\n",
            "Epoch 24/50\n",
            "1563/1563 [==============================] - 44s 28ms/step - loss: 8.8547 - acc: 0.1059 - val_loss: 8.8714 - val_acc: 0.1030\n",
            "Epoch 25/50\n",
            "1563/1563 [==============================] - 44s 28ms/step - loss: 8.8235 - acc: 0.1031 - val_loss: 8.8714 - val_acc: 0.1030\n",
            "Epoch 26/50\n",
            "1563/1563 [==============================] - 45s 29ms/step - loss: 8.7909 - acc: 0.1094 - val_loss: 8.8714 - val_acc: 0.1030\n",
            "Epoch 27/50\n",
            "1563/1563 [==============================] - 45s 29ms/step - loss: 8.8795 - acc: 0.1066 - val_loss: 8.8714 - val_acc: 0.1030\n",
            "Epoch 28/50\n",
            "1563/1563 [==============================] - 45s 29ms/step - loss: 8.7741 - acc: 0.1062 - val_loss: 8.8714 - val_acc: 0.1030\n",
            "Epoch 29/50\n",
            "1563/1563 [==============================] - 45s 29ms/step - loss: 8.8103 - acc: 0.1058 - val_loss: 8.8714 - val_acc: 0.1030\n",
            "Epoch 30/50\n",
            "1563/1563 [==============================] - 44s 28ms/step - loss: 8.7794 - acc: 0.1075 - val_loss: 8.8714 - val_acc: 0.1030\n",
            "Epoch 31/50\n",
            "1563/1563 [==============================] - 44s 28ms/step - loss: 8.7608 - acc: 0.1053 - val_loss: 8.8714 - val_acc: 0.1030\n",
            "Epoch 32/50\n",
            "1563/1563 [==============================] - 44s 28ms/step - loss: 8.8335 - acc: 0.1068 - val_loss: 8.8714 - val_acc: 0.1030\n",
            "Epoch 33/50\n",
            "1563/1563 [==============================] - 44s 28ms/step - loss: 8.8189 - acc: 0.1064 - val_loss: 8.8714 - val_acc: 0.1030\n",
            "Epoch 34/50\n",
            "1563/1563 [==============================] - 45s 29ms/step - loss: 8.8119 - acc: 0.1061 - val_loss: 8.8714 - val_acc: 0.1030\n",
            "Epoch 35/50\n",
            "1563/1563 [==============================] - 45s 29ms/step - loss: 8.7724 - acc: 0.1058 - val_loss: 8.8714 - val_acc: 0.1030\n",
            "Epoch 36/50\n",
            "1563/1563 [==============================] - 45s 28ms/step - loss: 8.8174 - acc: 0.1040 - val_loss: 8.8714 - val_acc: 0.1030\n",
            "Epoch 37/50\n",
            "1563/1563 [==============================] - 45s 29ms/step - loss: 8.8188 - acc: 0.1057 - val_loss: 8.8714 - val_acc: 0.1030\n",
            "Epoch 38/50\n",
            "1563/1563 [==============================] - 45s 29ms/step - loss: 8.8171 - acc: 0.1039 - val_loss: 8.8714 - val_acc: 0.1030\n",
            "Epoch 39/50\n",
            "1563/1563 [==============================] - 45s 29ms/step - loss: 8.7822 - acc: 0.1051 - val_loss: 8.8714 - val_acc: 0.1030\n",
            "Epoch 40/50\n",
            "1563/1563 [==============================] - 44s 28ms/step - loss: 8.8288 - acc: 0.1060 - val_loss: 8.8714 - val_acc: 0.1030\n",
            "Epoch 41/50\n",
            "1563/1563 [==============================] - 44s 28ms/step - loss: 8.8158 - acc: 0.1074 - val_loss: 8.8714 - val_acc: 0.1030\n",
            "Epoch 42/50\n",
            "1563/1563 [==============================] - 45s 29ms/step - loss: 8.8050 - acc: 0.1042 - val_loss: 8.8714 - val_acc: 0.1030\n",
            "Epoch 43/50\n",
            "1563/1563 [==============================] - 45s 28ms/step - loss: 8.8121 - acc: 0.1066 - val_loss: 8.8714 - val_acc: 0.1030\n",
            "Epoch 44/50\n",
            "1563/1563 [==============================] - 44s 28ms/step - loss: 8.7738 - acc: 0.1043 - val_loss: 8.8714 - val_acc: 0.1030\n",
            "Epoch 45/50\n",
            "1563/1563 [==============================] - 44s 28ms/step - loss: 8.7715 - acc: 0.1090 - val_loss: 8.8714 - val_acc: 0.1030\n",
            "Epoch 46/50\n",
            "1563/1563 [==============================] - 45s 29ms/step - loss: 8.8328 - acc: 0.1058 - val_loss: 8.8714 - val_acc: 0.1030\n",
            "Epoch 47/50\n",
            "1563/1563 [==============================] - 45s 29ms/step - loss: 8.7697 - acc: 0.1060 - val_loss: 8.8714 - val_acc: 0.1030\n",
            "Epoch 48/50\n",
            "1563/1563 [==============================] - 45s 29ms/step - loss: 8.8565 - acc: 0.1036 - val_loss: 8.8714 - val_acc: 0.1030\n",
            "Epoch 49/50\n",
            "1563/1563 [==============================] - 45s 29ms/step - loss: 8.7792 - acc: 0.1066 - val_loss: 8.8714 - val_acc: 0.1030\n",
            "Epoch 50/50\n",
            "1563/1563 [==============================] - 45s 29ms/step - loss: 8.7567 - acc: 0.1043 - val_loss: 8.8714 - val_acc: 0.1030\n"
          ],
          "name": "stdout"
        }
      ]
    },
    {
      "cell_type": "code",
      "metadata": {
        "colab": {
          "base_uri": "https://localhost:8080/",
          "height": 281
        },
        "id": "71HtMbjvMwy4",
        "outputId": "b5a13fae-658f-4567-9d12-9f2fc827f645"
      },
      "source": [
        "plt.plot(result_C.history[\"acc\"],label=\"Train Accuracy\")\n",
        "plt.plot(result_C.history[\"val_acc\"],label=\"Test Accuracy\")\n",
        "plt.legend()\n",
        "plt.title(\"Accuracy Plot for NetC\")\n",
        "plt.show()"
      ],
      "execution_count": 51,
      "outputs": [
        {
          "output_type": "display_data",
          "data": {
            "image/png": "[encoded data removed]",
            "text/plain": [
              "<Figure size 432x288 with 1 Axes>"
            ]
          },
          "metadata": {
            "tags": [],
            "needs_background": "light"
          }
        }
      ]
    },
    {
      "cell_type": "code",
      "metadata": {
        "id": "QX8zDegNf8r8"
      },
      "source": [
        "h=[]\n",
        "nets = [\"NetA()\", \"NetB()\", \"NetC()\"]\n",
        "j=[result_A,result_B,result_C]\n",
        "\n",
        "for i,n in enumerate(nets):\n",
        "    h.append({\n",
        "        \"name\":n,\n",
        "        \"train_acc\":j[i].history[\"acc\"],\n",
        "        \"test_acc\":j[i].history[\"val_acc\"]\n",
        "    }) "
      ],
      "execution_count": 52,
      "outputs": []
    },
    {
      "cell_type": "code",
      "metadata": {
        "colab": {
          "base_uri": "https://localhost:8080/"
        },
        "id": "oGG33UhjqoIk",
        "outputId": "5e944bf2-0cf1-4d3b-8376-7fcc56b2f11e"
      },
      "source": [
        "print(h)"
      ],
      "execution_count": 53,
      "outputs": [
        {
          "output_type": "stream",
          "text": [
            "[{'name': 'NetA()', 'train_acc': [0.09888000041246414, 0.09849999845027924, 0.09818000346422195, 0.09818000346422195, 0.09818000346422195, 0.09818000346422195, 0.09818000346422195, 0.09818000346422195, 0.09818000346422195, 0.09818000346422195, 0.09818000346422195, 0.09818000346422195, 0.09818000346422195, 0.09818000346422195, 0.09818000346422195, 0.09818000346422195, 0.09818000346422195, 0.09818000346422195, 0.09818000346422195, 0.09818000346422195, 0.09818000346422195, 0.09818000346422195, 0.09818000346422195, 0.09818000346422195, 0.09818000346422195, 0.09818000346422195, 0.09818000346422195, 0.09818000346422195, 0.09818000346422195, 0.09818000346422195, 0.09818000346422195, 0.09818000346422195, 0.09818000346422195, 0.09818000346422195, 0.09818000346422195, 0.09818000346422195, 0.09818000346422195, 0.09818000346422195, 0.09818000346422195, 0.09818000346422195, 0.09818000346422195, 0.09818000346422195, 0.09818000346422195, 0.09818000346422195, 0.09818000346422195, 0.09818000346422195, 0.09818000346422195, 0.09818000346422195, 0.09818000346422195, 0.09818000346422195], 'test_acc': [0.10000000149011612, 0.09920000284910202, 0.09920000284910202, 0.09920000284910202, 0.09920000284910202, 0.09920000284910202, 0.09920000284910202, 0.09920000284910202, 0.09920000284910202, 0.09920000284910202, 0.09920000284910202, 0.09920000284910202, 0.09920000284910202, 0.09920000284910202, 0.09920000284910202, 0.09920000284910202, 0.09920000284910202, 0.09920000284910202, 0.09920000284910202, 0.09920000284910202, 0.09920000284910202, 0.09920000284910202, 0.09920000284910202, 0.09920000284910202, 0.09920000284910202, 0.09920000284910202, 0.09920000284910202, 0.09920000284910202, 0.09920000284910202, 0.09920000284910202, 0.09920000284910202, 0.09920000284910202, 0.09920000284910202, 0.09920000284910202, 0.09920000284910202, 0.09920000284910202, 0.09920000284910202, 0.09920000284910202, 0.09920000284910202, 0.09920000284910202, 0.09920000284910202, 0.09920000284910202, 0.09920000284910202, 0.09920000284910202, 0.09920000284910202, 0.09920000284910202, 0.09920000284910202, 0.09920000284910202, 0.09920000284910202, 0.09920000284910202]}, {'name': 'NetB()', 'train_acc': [0.10846000164747238, 0.10862000286579132, 0.10862000286579132, 0.10862000286579132, 0.10862000286579132, 0.10862000286579132, 0.10862000286579132, 0.10862000286579132, 0.10862000286579132, 0.10862000286579132, 0.10862000286579132, 0.10862000286579132, 0.10862000286579132, 0.10862000286579132, 0.10862000286579132, 0.10862000286579132, 0.10862000286579132, 0.10862000286579132, 0.10862000286579132, 0.10862000286579132, 0.10862000286579132, 0.10862000286579132, 0.10862000286579132, 0.10862000286579132, 0.10862000286579132, 0.10862000286579132, 0.10862000286579132, 0.10862000286579132, 0.10862000286579132, 0.10862000286579132, 0.10862000286579132, 0.10862000286579132, 0.10862000286579132, 0.10862000286579132, 0.10862000286579132, 0.10862000286579132, 0.10862000286579132, 0.10862000286579132, 0.10862000286579132, 0.10862000286579132, 0.10862000286579132, 0.10862000286579132, 0.10862000286579132, 0.10862000286579132, 0.10862000286579132, 0.10862000286579132, 0.10862000286579132, 0.10862000286579132, 0.10862000286579132, 0.10862000286579132], 'test_acc': [0.10909999907016754, 0.10909999907016754, 0.10909999907016754, 0.10909999907016754, 0.10909999907016754, 0.10909999907016754, 0.10909999907016754, 0.10909999907016754, 0.10909999907016754, 0.10909999907016754, 0.10909999907016754, 0.10909999907016754, 0.10909999907016754, 0.10909999907016754, 0.10909999907016754, 0.10909999907016754, 0.10909999907016754, 0.10909999907016754, 0.10909999907016754, 0.10909999907016754, 0.10909999907016754, 0.10909999907016754, 0.10909999907016754, 0.10909999907016754, 0.10909999907016754, 0.10909999907016754, 0.10909999907016754, 0.10909999907016754, 0.10909999907016754, 0.10909999907016754, 0.10909999907016754, 0.10909999907016754, 0.10909999907016754, 0.10909999907016754, 0.10909999907016754, 0.10909999907016754, 0.10909999907016754, 0.10909999907016754, 0.10909999907016754, 0.10909999907016754, 0.10909999907016754, 0.10909999907016754, 0.10909999907016754, 0.10909999907016754, 0.10909999907016754, 0.10909999907016754, 0.10909999907016754, 0.10909999907016754, 0.10909999907016754, 0.10909999907016754]}, {'name': 'NetC()', 'train_acc': [0.10657999664545059, 0.10599999874830246, 0.10599999874830246, 0.10599999874830246, 0.10599999874830246, 0.10599999874830246, 0.10599999874830246, 0.10599999874830246, 0.10599999874830246, 0.10599999874830246, 0.10599999874830246, 0.10599999874830246, 0.10599999874830246, 0.10599999874830246, 0.10599999874830246, 0.10599999874830246, 0.10599999874830246, 0.10599999874830246, 0.10599999874830246, 0.10599999874830246, 0.10599999874830246, 0.10599999874830246, 0.10599999874830246, 0.10599999874830246, 0.10599999874830246, 0.10599999874830246, 0.10599999874830246, 0.10599999874830246, 0.10599999874830246, 0.10599999874830246, 0.10599999874830246, 0.10599999874830246, 0.10599999874830246, 0.10599999874830246, 0.10599999874830246, 0.10599999874830246, 0.10599999874830246, 0.10599999874830246, 0.10599999874830246, 0.10599999874830246, 0.10599999874830246, 0.10599999874830246, 0.10599999874830246, 0.10599999874830246, 0.10599999874830246, 0.10599999874830246, 0.10599999874830246, 0.10599999874830246, 0.10599999874830246, 0.10599999874830246], 'test_acc': [0.10300000011920929, 0.10300000011920929, 0.10300000011920929, 0.10300000011920929, 0.10300000011920929, 0.10300000011920929, 0.10300000011920929, 0.10300000011920929, 0.10300000011920929, 0.10300000011920929, 0.10300000011920929, 0.10300000011920929, 0.10300000011920929, 0.10300000011920929, 0.10300000011920929, 0.10300000011920929, 0.10300000011920929, 0.10300000011920929, 0.10300000011920929, 0.10300000011920929, 0.10300000011920929, 0.10300000011920929, 0.10300000011920929, 0.10300000011920929, 0.10300000011920929, 0.10300000011920929, 0.10300000011920929, 0.10300000011920929, 0.10300000011920929, 0.10300000011920929, 0.10300000011920929, 0.10300000011920929, 0.10300000011920929, 0.10300000011920929, 0.10300000011920929, 0.10300000011920929, 0.10300000011920929, 0.10300000011920929, 0.10300000011920929, 0.10300000011920929, 0.10300000011920929, 0.10300000011920929, 0.10300000011920929, 0.10300000011920929, 0.10300000011920929, 0.10300000011920929, 0.10300000011920929, 0.10300000011920929, 0.10300000011920929, 0.10300000011920929]}]\n"
          ],
          "name": "stdout"
        }
      ]
    },
    {
      "cell_type": "code",
      "metadata": {
        "colab": {
          "base_uri": "https://localhost:8080/",
          "height": 281
        },
        "id": "oi2izyCdnzIW",
        "outputId": "98af408c-1957-45a4-b3a1-dfc089949a8b"
      },
      "source": [
        "for i in range(3):\n",
        "  plt.plot(h[i][\"train_acc\"],label=\"Train Accuracy\"+\"_\"+h[i][\"name\"])\n",
        "  plt.plot(h[i][\"test_acc\"],label=\"Test Accuracy\"+\"_\"+h[i][\"name\"])\n",
        "plt.legend()\n",
        "plt.title(\"Comparing all the three models\")\n",
        "plt.show()\n"
      ],
      "execution_count": 54,
      "outputs": [
        {
          "output_type": "display_data",
          "data": {
            "image/png": "[encoded data removed]",
            "text/plain": [
              "<Figure size 432x288 with 1 Axes>"
            ]
          },
          "metadata": {
            "tags": [],
            "needs_background": "light"
          }
        }
      ]
    },
    {
      "cell_type": "code",
      "metadata": {
        "id": "Hp-icLoApGOx"
      },
      "source": [
        ""
      ],
      "execution_count": 54,
      "outputs": []
    }
  ]
}